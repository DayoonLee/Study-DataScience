{
 "cells": [
  {
   "cell_type": "markdown",
   "metadata": {},
   "source": [
    "# CS5920J Assignment 3"
   ]
  },
  {
   "cell_type": "markdown",
   "metadata": {},
   "source": [
    "## 1. wine dataset"
   ]
  },
  {
   "cell_type": "markdown",
   "metadata": {},
   "source": [
    "#### 1-1. Load the data set into Python"
   ]
  },
  {
   "cell_type": "code",
   "execution_count": 354,
   "metadata": {},
   "outputs": [],
   "source": [
    "from sklearn.datasets import load_wine\n",
    "from sklearn.model_selection import train_test_split\n",
    "from sklearn.model_selection import cross_val_score"
   ]
  },
  {
   "cell_type": "code",
   "execution_count": 355,
   "metadata": {},
   "outputs": [],
   "source": [
    "wine = load_wine()"
   ]
  },
  {
   "cell_type": "code",
   "execution_count": 356,
   "metadata": {},
   "outputs": [
    {
     "name": "stdout",
     "output_type": "stream",
     "text": [
      "Size of dataset: (178, 13) (178,)\n",
      "Target names: ['class_0' 'class_1' 'class_2']\n"
     ]
    }
   ],
   "source": [
    "print(\"Size of dataset:\", wine.data.shape, wine.target.shape)\n",
    "print(\"Target names:\", wine.target_names)"
   ]
  },
  {
   "cell_type": "markdown",
   "metadata": {},
   "source": [
    "#### 1-2. Divide the dataset into a training set and a test set. Use birthday in the format DDMM as random_state"
   ]
  },
  {
   "cell_type": "code",
   "execution_count": 357,
   "metadata": {},
   "outputs": [],
   "source": [
    "X_train,X_test,y_train,y_test = train_test_split(wine.data,wine.target,random_state=2409)"
   ]
  },
  {
   "cell_type": "markdown",
   "metadata": {},
   "source": [
    "#### 1-3. Using cross-validation and the training set only, estimate the generalization accuracy of the SVM with the default values of the parameters"
   ]
  },
  {
   "cell_type": "code",
   "execution_count": 358,
   "metadata": {},
   "outputs": [
    {
     "name": "stdout",
     "output_type": "stream",
     "text": [
      "Generalization accuracy on training data: 0.6994301994301994\n"
     ]
    }
   ],
   "source": [
    "from sklearn.svm import SVC\n",
    "import numpy as np\n",
    "svc = SVC()\n",
    "scores = cross_val_score(svc,X_train,y_train)\n",
    "train_score = np.mean(scores)\n",
    "print(\"Generalization accuracy on training data:\", train_score)"
   ]
  },
  {
   "cell_type": "markdown",
   "metadata": {},
   "source": [
    "#### Answer for Task 1-3\n",
    "Generalization accuracy on training data: 0.6994301994301994"
   ]
  },
  {
   "cell_type": "markdown",
   "metadata": {},
   "source": [
    "#### 1-4. Find the test error rate of the SVM with the default values of parameters"
   ]
  },
  {
   "cell_type": "code",
   "execution_count": 359,
   "metadata": {},
   "outputs": [
    {
     "name": "stdout",
     "output_type": "stream",
     "text": [
      "Test accuracy: 0.7111111111111111\n",
      "Test error rate: 0.28888888888888886\n"
     ]
    }
   ],
   "source": [
    "svc.fit(X_train,y_train)\n",
    "test_score = svc.score(X_test,y_test)\n",
    "print(\"Test accuracy:\", test_score)\n",
    "print(\"Test error rate:\", 1-test_score)"
   ]
  },
  {
   "cell_type": "markdown",
   "metadata": {},
   "source": [
    "#### Answer for Task 1-4\n",
    "Test error rate: 0.28888888888888886 <br><br>\n",
    "Test accuracy is a little bit higher than the estimated generalization accuracy on training data, however, accuracy on both training and test sets is pretty low, which means the prediction is not good enough"
   ]
  },
  {
   "cell_type": "markdown",
   "metadata": {},
   "source": [
    "#### 1-5 & 6. Create a pipeline for SVM involving data normalization and SVC, and use grid search and cross-validation to tune parameters C and gamma for the pipeline. Fit the GridSearchCV object of task 5 to the training set and use it to predict the test labels"
   ]
  },
  {
   "cell_type": "code",
   "execution_count": 360,
   "metadata": {},
   "outputs": [],
   "source": [
    "from sklearn.pipeline import make_pipeline\n",
    "from sklearn.preprocessing import MinMaxScaler, StandardScaler, RobustScaler, Normalizer\n",
    "from sklearn.model_selection import GridSearchCV"
   ]
  },
  {
   "cell_type": "code",
   "execution_count": 361,
   "metadata": {},
   "outputs": [
    {
     "name": "stdout",
     "output_type": "stream",
     "text": [
      "Test set score: 0.9777777777777777\n",
      "Test error rate: 0.022222222222222254\n",
      "Best parameters: {'svc__C': 10, 'svc__gamma': 0.01}\n"
     ]
    }
   ],
   "source": [
    "# 1. MinMaxScaler\n",
    "pipe = make_pipeline(MinMaxScaler(), SVC())\n",
    "param_grid = {'svc__C': [0.001,0.01,0.1,1,5,10,100],'svc__gamma': [0.001,0.01,0.1,1,5,10,100]}\n",
    "grid_minmax = GridSearchCV(pipe,param_grid,cv=5)\n",
    "grid_minmax.fit(X_train,y_train)\n",
    "grid_test_score = grid_minmax.score(X_test,y_test)\n",
    "print(\"Test set score:\", grid_test_score)\n",
    "print(\"Test error rate:\", 1-grid_test_score)\n",
    "print(\"Best parameters:\", grid_minmax.best_params_)"
   ]
  },
  {
   "cell_type": "code",
   "execution_count": 362,
   "metadata": {},
   "outputs": [
    {
     "name": "stdout",
     "output_type": "stream",
     "text": [
      "Test set score: 0.9777777777777777\n",
      "Test error rate: 0.022222222222222254\n",
      "Best parameters: {'svc__C': 1, 'svc__gamma': 0.01}\n"
     ]
    }
   ],
   "source": [
    "# 2. StandardScaler\n",
    "pipe = make_pipeline(StandardScaler(), SVC())\n",
    "param_grid = {'svc__C': [0.001,0.01,0.1,1,5,10,100],'svc__gamma': [0.001,0.01,0.1,1,5,10,100]}\n",
    "grid_standard = GridSearchCV(pipe,param_grid,cv=5)\n",
    "grid_standard.fit(X_train,y_train)\n",
    "grid_test_score = grid_standard.score(X_test,y_test)\n",
    "print(\"Test set score:\", grid_test_score)\n",
    "print(\"Test error rate:\", 1-grid_test_score)\n",
    "print(\"Best parameters:\", grid_standard.best_params_)"
   ]
  },
  {
   "cell_type": "code",
   "execution_count": 363,
   "metadata": {},
   "outputs": [
    {
     "name": "stdout",
     "output_type": "stream",
     "text": [
      "Test set score: 1.0\n",
      "Test error rate: 0.0\n",
      "Best parameters: {'svc__C': 1, 'svc__gamma': 0.01}\n"
     ]
    }
   ],
   "source": [
    "# 3. RobustScaler\n",
    "pipe = make_pipeline(RobustScaler(), SVC())\n",
    "param_grid = {'svc__C': [0.001,0.01,0.1,1,5,10,100],'svc__gamma': [0.001,0.01,0.1,1,5,10,100]}\n",
    "grid_robust = GridSearchCV(pipe,param_grid,cv=5)\n",
    "grid_robust.fit(X_train,y_train)\n",
    "grid_test_score = grid_robust.score(X_test,y_test)\n",
    "print(\"Test set score:\", grid_test_score)\n",
    "print(\"Test error rate:\", 1-grid_test_score)\n",
    "print(\"Best parameters:\", grid_robust.best_params_)"
   ]
  },
  {
   "cell_type": "code",
   "execution_count": 364,
   "metadata": {},
   "outputs": [
    {
     "name": "stdout",
     "output_type": "stream",
     "text": [
      "Test set score: 0.9555555555555556\n",
      "Test error rate: 0.0444444444444444\n",
      "Best parameters: {'svc__C': 100, 'svc__gamma': 100}\n"
     ]
    }
   ],
   "source": [
    "# 4. Normalizer\n",
    "pipe = make_pipeline(Normalizer(), SVC())\n",
    "param_grid = {'svc__C': [0.001,0.01,0.1,1,5,10,100],'svc__gamma': [0.001,0.01,0.1,1,5,10,100]}\n",
    "grid_normalizer = GridSearchCV(pipe,param_grid,cv=5)\n",
    "grid_normalizer.fit(X_train,y_train)\n",
    "grid_test_score = grid_normalizer.score(X_test,y_test)\n",
    "print(\"Test set score:\", grid_test_score)\n",
    "print(\"Test error rate:\", 1-grid_test_score)\n",
    "print(\"Best parameters:\", grid_normalizer.best_params_)"
   ]
  },
  {
   "cell_type": "markdown",
   "metadata": {},
   "source": [
    "#### Answer for Task 1-5 & 1-6\n",
    "RobustScaler performs best on the wine dataset and its best parameters are 'svc__C': 1, 'svc__gamma': 0.01\n",
    "\n",
    "| Scaler | Test Set Score | Test Error Rate | Best parameters |\n",
    "| :-: | :-: | :-: | :-: |\n",
    "| MinMaxScaler | 0.978 | 0.022 | 'svc__C': 10, 'svc__gamma': 0.01 |\n",
    "| StandardScaler | 0.978 | 0.022 | 'svc__C': 1, 'svc__gamma': 0.01 |\n",
    "| RobustScaler | 1.0 | 0.0 | 'svc__C': 1, 'svc__gamma': 0.01 |\n",
    "| Normalizer | 0.956 | 0.044 | 'svc__C': 100, 'svc__gamma': 100 |"
   ]
  },
  {
   "cell_type": "markdown",
   "metadata": {},
   "source": [
    "#### 7. Implement a cross-conformal predictor"
   ]
  },
  {
   "cell_type": "code",
   "execution_count": 295,
   "metadata": {},
   "outputs": [],
   "source": [
    "from sklearn.model_selection import KFold\n",
    "kf = KFold(shuffle=True, random_state=2409, n_splits=5)"
   ]
  },
  {
   "cell_type": "code",
   "execution_count": 365,
   "metadata": {},
   "outputs": [],
   "source": [
    "# I used RobustScaler and its best parameters as it performed best on the wine dataset (results from task 1-5&1-6)\n",
    "rank_matrix = np.zeros((len(X_test), 3))\n",
    "\n",
    "for rest_index, fold_index in kf.split(X_train):\n",
    "    X_rest, X_fold = X_train[rest_index], X_train[fold_index]\n",
    "    y_rest, y_fold = y_train[rest_index], y_train[fold_index]\n",
    "    grid_robust.fit(X_rest, y_rest)\n",
    "    conformity_scores_fold = grid_robust.decision_function(X_fold)\n",
    "    alphas_fold = []\n",
    "    for i in range(len(conformity_scores_fold)):\n",
    "        alphas_fold.append(conformity_scores_fold[i,y_fold[i]])\n",
    "    \n",
    "    conformity_scores_test = grid_robust.decision_function(X_test)\n",
    "\n",
    "    for j in range(len(conformity_scores_test)):\n",
    "        for k in range(3):\n",
    "            rank_matrix[j,k] = rank_matrix[j,k] + np.sum(conformity_scores_test[j,k] > alphas_fold)\n",
    "            \n",
    "p_values = (rank_matrix+1) / (len(X_train)+1)"
   ]
  },
  {
   "cell_type": "markdown",
   "metadata": {},
   "source": [
    "To check its validity, produce a calibration curve"
   ]
  },
  {
   "cell_type": "code",
   "execution_count": 366,
   "metadata": {},
   "outputs": [
    {
     "data": {
      "text/plain": [
       "Text(0, 0.5, 'percentage of errors')"
      ]
     },
     "execution_count": 366,
     "metadata": {},
     "output_type": "execute_result"
    },
    {
     "data": {
      "image/png": "[encoded data removed]",
      "text/plain": [
       "<Figure size 432x288 with 1 Axes>"
      ]
     },
     "metadata": {
      "needs_background": "light"
     },
     "output_type": "display_data"
    }
   ],
   "source": [
    "%matplotlib inline\n",
    "import matplotlib.pyplot as plt\n",
    "\n",
    "eps = np.arange(0,1.01,0.01)\n",
    "err = []\n",
    "for i in range(len(eps)):\n",
    "    nr_of_error = 0 \n",
    "    for j in range(len(X_test)):\n",
    "        if p_values[j,y_test[j]] <= eps[i]:\n",
    "            nr_of_error += 1\n",
    "    err.append(nr_of_error/len(X_test))\n",
    "\n",
    "plt.plot(eps,err)\n",
    "plt.xlabel(\"significance level ϵ\")\n",
    "plt.ylabel(\"percentage of errors\")"
   ]
  },
  {
   "cell_type": "markdown",
   "metadata": {},
   "source": [
    "Compute the average false p-value on the test set"
   ]
  },
  {
   "cell_type": "code",
   "execution_count": 367,
   "metadata": {},
   "outputs": [
    {
     "name": "stdout",
     "output_type": "stream",
     "text": [
      "average false p-value on the test set: 0.01011608623548923\n"
     ]
    }
   ],
   "source": [
    "false_p_values = []\n",
    "for i in range(len(p_values)):   \n",
    "    false_p_values.append(np.sum(p_values[i]) - p_values[i,y_test[i]])\n",
    "\n",
    "avg_false_p_values = np.sum(false_p_values) / (len(p_values)*(p_values.shape[1]-1))\n",
    "print(\"average false p-value on the test set:\", avg_false_p_values)"
   ]
  },
  {
   "cell_type": "markdown",
   "metadata": {},
   "source": [
    "#### Answer for Task 1-7\n",
    "Average false p-value on the test set: 0.01011608623548923"
   ]
  },
  {
   "cell_type": "markdown",
   "metadata": {},
   "source": [
    "## 2. USPS dataset"
   ]
  },
  {
   "cell_type": "markdown",
   "metadata": {},
   "source": [
    "#### 2-1. Load the data set into Python. In the case of the USPS dataset, merge the original training and test sets into one dataset"
   ]
  },
  {
   "cell_type": "code",
   "execution_count": 299,
   "metadata": {},
   "outputs": [
    {
     "name": "stdout",
     "output_type": "stream",
     "text": [
      "Size of training set: (7291, 256)\n",
      "Size of test set: (2007, 256)\n"
     ]
    }
   ],
   "source": [
    "USPS_X_train = np.genfromtxt(\"zip.train.gz\", usecols=np.arange(1,257))\n",
    "USPS_X_test = np.genfromtxt(\"zip.test.gz\", usecols=np.arange(1,257))\n",
    "print(\"Size of training set:\", USPS_X_train.shape)\n",
    "print(\"Size of test set:\", USPS_X_test.shape)"
   ]
  },
  {
   "cell_type": "code",
   "execution_count": 300,
   "metadata": {},
   "outputs": [
    {
     "name": "stdout",
     "output_type": "stream",
     "text": [
      "Size of merged data: (9298, 256)\n"
     ]
    }
   ],
   "source": [
    "USPS_X = np.concatenate((USPS_X_train, USPS_X_test), axis=0)\n",
    "print(\"Size of merged data:\", USPS_X.shape)"
   ]
  },
  {
   "cell_type": "code",
   "execution_count": 321,
   "metadata": {},
   "outputs": [
    {
     "name": "stdout",
     "output_type": "stream",
     "text": [
      "Size of training set labels: (7291,)\n",
      "Size of test set labels: (2007,)\n"
     ]
    }
   ],
   "source": [
    "USPS_y_train = np.genfromtxt(\"zip.train.gz\", usecols=0, dtype='int')\n",
    "USPS_y_test = np.genfromtxt(\"zip.test.gz\", usecols=0, dtype='int')\n",
    "print(\"Size of training set labels:\", USPS_y_train.shape)\n",
    "print(\"Size of test set labels:\", USPS_y_test.shape)"
   ]
  },
  {
   "cell_type": "code",
   "execution_count": 327,
   "metadata": {},
   "outputs": [
    {
     "name": "stdout",
     "output_type": "stream",
     "text": [
      "Size of merged data labels: (9298,)\n"
     ]
    }
   ],
   "source": [
    "USPS_y = np.concatenate((USPS_y_train, USPS_y_test))\n",
    "print(\"Size of merged data labels:\", USPS_y.shape)"
   ]
  },
  {
   "cell_type": "markdown",
   "metadata": {},
   "source": [
    "#### 2-2. Divide the dataset into a training set and a test set. Use birthday in the format DDMM as random_state"
   ]
  },
  {
   "cell_type": "code",
   "execution_count": 330,
   "metadata": {},
   "outputs": [],
   "source": [
    "X_train,X_test,y_train,y_test = train_test_split(USPS_X,USPS_y,random_state = 2409)"
   ]
  },
  {
   "cell_type": "code",
   "execution_count": 304,
   "metadata": {},
   "outputs": [
    {
     "name": "stdout",
     "output_type": "stream",
     "text": [
      "Size of resplited training set: (6973, 256)\n",
      "Size of resplited test set: (2325, 256)\n"
     ]
    }
   ],
   "source": [
    "print(\"Size of resplited training set:\", X_train.shape)\n",
    "print(\"Size of resplited test set:\", X_test.shape)"
   ]
  },
  {
   "cell_type": "markdown",
   "metadata": {},
   "source": [
    "#### 2-3. Using cross-validation and the training set only, estimate the generalization accuracy of the SVM with the default values of the parameters"
   ]
  },
  {
   "cell_type": "code",
   "execution_count": 305,
   "metadata": {},
   "outputs": [
    {
     "name": "stdout",
     "output_type": "stream",
     "text": [
      "Generalization accuracy on training data: 0.9723216241650083\n"
     ]
    }
   ],
   "source": [
    "svc = SVC()\n",
    "scores = cross_val_score(svc,X_train,y_train)\n",
    "train_score = np.mean(scores)\n",
    "print(\"Generalization accuracy on training data:\", train_score)"
   ]
  },
  {
   "cell_type": "markdown",
   "metadata": {},
   "source": [
    "#### Answer for Task 2-3\n",
    "Generalization accuracy on training data: 0.9723216241650083"
   ]
  },
  {
   "cell_type": "markdown",
   "metadata": {},
   "source": [
    "#### 2-4. Find the test error rate of the SVM with the default values of parameters"
   ]
  },
  {
   "cell_type": "code",
   "execution_count": 306,
   "metadata": {},
   "outputs": [
    {
     "name": "stdout",
     "output_type": "stream",
     "text": [
      "Test accuracy: 0.9690322580645161\n",
      "Test error rate: 0.030967741935483906\n"
     ]
    }
   ],
   "source": [
    "svc.fit(X_train,y_train)\n",
    "test_score = svc.score(X_test,y_test)\n",
    "print(\"Test accuracy:\", test_score)\n",
    "print(\"Test error rate:\", 1-test_score)"
   ]
  },
  {
   "cell_type": "markdown",
   "metadata": {},
   "source": [
    "#### Answer for Task 2-4\n",
    "Test error rate: 0.030967741935483906 <br><br>\n",
    "Unlike the wine dataset, svm algorithm shows high accuracy on both training (≈ 97.2%) and test (≈ 96.9%) sets on the USPS dataset"
   ]
  },
  {
   "cell_type": "markdown",
   "metadata": {},
   "source": [
    "####  2-5 & 6. Create a pipeline for SVM involving data normalization and SVC, and use grid search and cross-validation to tune parameters C and gamma for the pipeline. Fit the GridSearchCV object of task 5 to the training set and use it to predict the test labels"
   ]
  },
  {
   "cell_type": "code",
   "execution_count": 353,
   "metadata": {},
   "outputs": [
    {
     "name": "stdout",
     "output_type": "stream",
     "text": [
      "Test set score: 0.9686021505376344\n",
      "Test error rate: 0.03139784946236557\n",
      "Best parameters: {'svc__C': 10, 'svc__gamma': 0.01}\n",
      "1414.3381066322327 seconds\n"
     ]
    }
   ],
   "source": [
    "# I reduced options for parameters (C and gamma) to reduce the running time\n",
    "# 1. MinMaxScaler\n",
    "import time\n",
    "start_time = time.time()\n",
    "pipe = make_pipeline(MinMaxScaler(), SVC())\n",
    "param_grid = {'svc__C': [1,10,100],'svc__gamma': [0.01,0.1,1]}\n",
    "grid_minmax = GridSearchCV(pipe,param_grid,cv=5)\n",
    "grid_minmax.fit(X_train,y_train)\n",
    "grid_test_score = grid_minmax.score(X_test,y_test)\n",
    "print(\"Test set score:\", grid_test_score)\n",
    "print(\"Test error rate:\", 1-grid_test_score)\n",
    "print(\"Best parameters:\", grid_minmax.best_params_)\n",
    "print(time.time() - start_time, \"seconds\")"
   ]
  },
  {
   "cell_type": "code",
   "execution_count": 309,
   "metadata": {},
   "outputs": [
    {
     "name": "stdout",
     "output_type": "stream",
     "text": [
      "Test set score: 0.9320430107526881\n",
      "Test error rate: 0.06795698924731186\n",
      "Best parameters: {'svc__C': 10, 'svc__gamma': 0.01}\n",
      "900.0440971851349 seconds\n"
     ]
    }
   ],
   "source": [
    "# 2. StandardScaler\n",
    "start_time = time.time()\n",
    "pipe = make_pipeline(StandardScaler(), SVC())\n",
    "param_grid = {'svc__C': [1,10,100],'svc__gamma': [0.01,0.1,1]}\n",
    "grid_standard = GridSearchCV(pipe,param_grid,cv=5)\n",
    "grid_standard.fit(X_train,y_train)\n",
    "grid_test_score = grid_standard.score(X_test,y_test)\n",
    "print(\"Test set score:\", grid_test_score)\n",
    "print(\"Test error rate:\", 1-grid_test_score)\n",
    "print(\"Best parameters:\", grid_standard.best_params_)\n",
    "print(time.time() - start_time, \"seconds\")"
   ]
  },
  {
   "cell_type": "code",
   "execution_count": 310,
   "metadata": {},
   "outputs": [
    {
     "name": "stdout",
     "output_type": "stream",
     "text": [
      "Test set score: 0.7587096774193548\n",
      "Test error rate: 0.2412903225806452\n",
      "Best parameters: {'svc__C': 100, 'svc__gamma': 0.01}\n",
      "2136.2538986206055 seconds\n"
     ]
    }
   ],
   "source": [
    "# 3. RobustScaler\n",
    "start_time = time.time()\n",
    "pipe = make_pipeline(RobustScaler(), SVC())\n",
    "param_grid = {'svc__C': [1,10,100],'svc__gamma': [0.01,0.1,1]}\n",
    "grid_robust = GridSearchCV(pipe,param_grid,cv=5)\n",
    "grid_robust.fit(X_train,y_train)\n",
    "grid_test_score = grid_robust.score(X_test,y_test)\n",
    "print(\"Test set score:\", grid_test_score)\n",
    "print(\"Test error rate:\", 1-grid_test_score)\n",
    "print(\"Best parameters:\", grid_robust.best_params_)\n",
    "print(time.time() - start_time, \"seconds\")"
   ]
  },
  {
   "cell_type": "code",
   "execution_count": 332,
   "metadata": {},
   "outputs": [
    {
     "name": "stdout",
     "output_type": "stream",
     "text": [
      "Test set score: 0.9698924731182795\n",
      "Test error rate: 0.03010752688172047\n",
      "Best parameters: {'svc__C': 10, 'svc__gamma': 1}\n",
      "558.5801811218262 seconds\n"
     ]
    }
   ],
   "source": [
    "# 4. Normalizer\n",
    "start_time = time.time()\n",
    "pipe = make_pipeline(Normalizer(), SVC())\n",
    "param_grid = {'svc__C': [1,10,100],'svc__gamma': [0.01,0.1,1]}\n",
    "grid_normalizer = GridSearchCV(pipe,param_grid,cv=5)\n",
    "grid_normalizer.fit(X_train,y_train)\n",
    "grid_test_score = grid_normalizer.score(X_test,y_test)\n",
    "print(\"Test set score:\", grid_test_score)\n",
    "print(\"Test error rate:\", 1-grid_test_score)\n",
    "print(\"Best parameters:\", grid_normalizer.best_params_)\n",
    "print(time.time() - start_time, \"seconds\")"
   ]
  },
  {
   "cell_type": "markdown",
   "metadata": {},
   "source": [
    "#### Answer for Task 2-5 & 2-6\n",
    "Normalizer performs best (slightly better than MinMaxScaler) on the USPS dataset and its best parameters are 'svc__C': 10, 'svc__gamma': 1\n",
    "\n",
    "| Scaler | Test Set Score | Test Error Rate | Best parameters |\n",
    "| :-: | :-: | :-: | :-: |\n",
    "| MinMaxScaler | 0.969 | 0.031 | 'svc__C': 10, 'svc__gamma': 0.01 |\n",
    "| StandardScaler | 0.932 | 0.068 | 'svc__C': 10, 'svc__gamma': 0.01 |\n",
    "| RobustScaler | 0.759 | 0.241 | 'svc__C': 100, 'svc__gamma': 0.01 |\n",
    "| Normalizer | 0.97 | 0.03 | 'svc__C': 10, 'svc__gamma': 1 |"
   ]
  },
  {
   "cell_type": "markdown",
   "metadata": {},
   "source": [
    "#### 2-7. Implement a cross-conformal predictor"
   ]
  },
  {
   "cell_type": "code",
   "execution_count": 333,
   "metadata": {},
   "outputs": [],
   "source": [
    "kf = KFold(shuffle=True, random_state=2409, n_splits=5)"
   ]
  },
  {
   "cell_type": "code",
   "execution_count": 350,
   "metadata": {},
   "outputs": [
    {
     "name": "stdout",
     "output_type": "stream",
     "text": [
      "1940.5730383396149 seconds\n"
     ]
    }
   ],
   "source": [
    "# I used Normalizer as it performed best on the USPS dataset (results from task 2-5&2-6)\n",
    "start_time = time.time()\n",
    "rank_matrix = np.zeros((len(X_test), 10))\n",
    "\n",
    "for rest_index, fold_index in kf.split(X_train):\n",
    "    X_rest, X_fold = X_train[rest_index], X_train[fold_index]\n",
    "    y_rest, y_fold = y_train[rest_index], y_train[fold_index]\n",
    "    grid_normalizer.fit(X_rest, y_rest)\n",
    "    conformity_scores_fold = grid_normalizer.decision_function(X_fold)\n",
    "    alphas_fold = []\n",
    "    for i in range(len(conformity_scores_fold)):\n",
    "        alphas_fold.append(conformity_scores_fold[i,y_fold[i]])\n",
    "    \n",
    "    conformity_scores_test = grid_normalizer.decision_function(X_test)\n",
    "\n",
    "    for j in range(len(conformity_scores_test)):\n",
    "        for k in range(10):\n",
    "            rank_matrix[j,k] = rank_matrix[j,k] + np.sum(conformity_scores_test[j,k] > alphas_fold)\n",
    "            \n",
    "p_values = (rank_matrix+1) / (len(X_train)+1)\n",
    "\n",
    "print(time.time() - start_time, \"seconds\")"
   ]
  },
  {
   "cell_type": "markdown",
   "metadata": {},
   "source": [
    "To check its validity, produce a calibration curve"
   ]
  },
  {
   "cell_type": "code",
   "execution_count": 351,
   "metadata": {},
   "outputs": [
    {
     "data": {
      "text/plain": [
       "Text(0, 0.5, 'percentage of errors')"
      ]
     },
     "execution_count": 351,
     "metadata": {},
     "output_type": "execute_result"
    },
    {
     "data": {
      "image/png": "[encoded data removed]",
      "text/plain": [
       "<Figure size 432x288 with 1 Axes>"
      ]
     },
     "metadata": {
      "needs_background": "light"
     },
     "output_type": "display_data"
    }
   ],
   "source": [
    "eps = np.arange(0,1.01,0.01)\n",
    "err = []\n",
    "for i in range(len(eps)):\n",
    "    nr_of_error = 0 \n",
    "    for j in range(len(X_test)):\n",
    "        if p_values[j,y_test[j]] <= eps[i]:\n",
    "            nr_of_error += 1\n",
    "    err.append(nr_of_error/len(X_test))\n",
    "\n",
    "plt.plot(eps,err)\n",
    "plt.xlabel(\"significance level ϵ\")\n",
    "plt.ylabel(\"percentage of errors\")"
   ]
  },
  {
   "cell_type": "markdown",
   "metadata": {},
   "source": [
    "Compute the average false p-value on the test set"
   ]
  },
  {
   "cell_type": "code",
   "execution_count": 352,
   "metadata": {},
   "outputs": [
    {
     "name": "stdout",
     "output_type": "stream",
     "text": [
      "average false p-value on the test set: 0.004702189631466114\n"
     ]
    }
   ],
   "source": [
    "false_p_values = []\n",
    "for i in range(len(p_values)):   \n",
    "    false_p_values.append(np.sum(p_values[i]) - p_values[i,y_test[i]])\n",
    "\n",
    "avg_false_p_values = np.sum(false_p_values) / (len(p_values)*(p_values.shape[1]-1))\n",
    "print(\"average false p-value on the test set:\", avg_false_p_values)"
   ]
  },
  {
   "cell_type": "markdown",
   "metadata": {},
   "source": [
    "#### Answer for Task 2-7\n",
    "Average false p-value on the test set: 0.004702189631466114"
   ]
  }
 ],
 "metadata": {
  "kernelspec": {
   "display_name": "Python 3",
   "language": "python",
   "name": "python3"
  },
  "language_info": {
   "codemirror_mode": {
    "name": "ipython",
    "version": 3
   },
   "file_extension": ".py",
   "mimetype": "text/x-python",
   "name": "python",
   "nbconvert_exporter": "python",
   "pygments_lexer": "ipython3",
   "version": "3.8.3"
  }
 },
 "nbformat": 4,
 "nbformat_minor": 4
}
