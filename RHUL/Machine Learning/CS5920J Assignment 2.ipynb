{
 "cells": [
  {
   "cell_type": "markdown",
   "metadata": {},
   "source": [
    "# CS5920J Assignment 2"
   ]
  },
  {
   "cell_type": "code",
   "execution_count": 145,
   "metadata": {},
   "outputs": [],
   "source": [
    "from sklearn.datasets import load_diabetes\n",
    "from sklearn.model_selection import train_test_split\n",
    "from sklearn.linear_model import Lasso"
   ]
  },
  {
   "cell_type": "markdown",
   "metadata": {},
   "source": [
    "#### 1. Load the scikit-learn version of the diabetes dataset into your Jupyter notebook using the load_diabetes function"
   ]
  },
  {
   "cell_type": "code",
   "execution_count": 146,
   "metadata": {},
   "outputs": [],
   "source": [
    "diabetes = load_diabetes()"
   ]
  },
  {
   "cell_type": "code",
   "execution_count": 147,
   "metadata": {},
   "outputs": [
    {
     "data": {
      "text/plain": [
       "['age', 'sex', 'bmi', 'bp', 's1', 's2', 's3', 's4', 's5', 's6']"
      ]
     },
     "execution_count": 147,
     "metadata": {},
     "output_type": "execute_result"
    }
   ],
   "source": [
    "diabetes['feature_names']"
   ]
  },
  {
   "cell_type": "code",
   "execution_count": 148,
   "metadata": {},
   "outputs": [
    {
     "data": {
      "text/plain": [
       "(442, 10)"
      ]
     },
     "execution_count": 148,
     "metadata": {},
     "output_type": "execute_result"
    }
   ],
   "source": [
    "diabetes['data'].shape"
   ]
  },
  {
   "cell_type": "code",
   "execution_count": 149,
   "metadata": {},
   "outputs": [
    {
     "data": {
      "text/plain": [
       "(442,)"
      ]
     },
     "execution_count": 149,
     "metadata": {},
     "output_type": "execute_result"
    }
   ],
   "source": [
    "diabetes['target'].shape"
   ]
  },
  {
   "cell_type": "markdown",
   "metadata": {},
   "source": [
    "#### 2. Split the dataset into the training and test sets. Use the birthday as random_state"
   ]
  },
  {
   "cell_type": "code",
   "execution_count": 150,
   "metadata": {},
   "outputs": [],
   "source": [
    "X_train,X_test,y_train,y_test = train_test_split(diabetes['data'],diabetes['target'],random_state=924)"
   ]
  },
  {
   "cell_type": "code",
   "execution_count": 151,
   "metadata": {},
   "outputs": [],
   "source": [
    "lasso = Lasso().fit(X_train,y_train)"
   ]
  },
  {
   "cell_type": "code",
   "execution_count": 152,
   "metadata": {},
   "outputs": [
    {
     "data": {
      "text/plain": [
       "0.33136976908707216"
      ]
     },
     "execution_count": 152,
     "metadata": {},
     "output_type": "execute_result"
    }
   ],
   "source": [
    "lasso.score(X_train,y_train)"
   ]
  },
  {
   "cell_type": "code",
   "execution_count": 153,
   "metadata": {},
   "outputs": [
    {
     "data": {
      "text/plain": [
       "0.3647028503815978"
      ]
     },
     "execution_count": 153,
     "metadata": {},
     "output_type": "execute_result"
    }
   ],
   "source": [
    "lasso.score(X_test,y_test)"
   ]
  },
  {
   "cell_type": "code",
   "execution_count": 154,
   "metadata": {},
   "outputs": [
    {
     "data": {
      "text/plain": [
       "3"
      ]
     },
     "execution_count": 154,
     "metadata": {},
     "output_type": "execute_result"
    }
   ],
   "source": [
    "import numpy as np\n",
    "np.sum(lasso.coef_ != 0)"
   ]
  },
  {
   "cell_type": "code",
   "execution_count": 155,
   "metadata": {},
   "outputs": [
    {
     "data": {
      "text/plain": [
       "array([  0.        ,  -0.        , 347.27189013,  34.41290304,\n",
       "         0.        ,   0.        ,  -0.        ,   0.        ,\n",
       "       254.56728939,   0.        ])"
      ]
     },
     "execution_count": 155,
     "metadata": {},
     "output_type": "execute_result"
    }
   ],
   "source": [
    "lasso.coef_"
   ]
  },
  {
   "cell_type": "markdown",
   "metadata": {},
   "source": [
    "#### 3. Answers for question 3\n",
    "3-1) What is the training $R^2$ for the Lasso model using the default parameters?: 0.33136976908707216 <br>\n",
    "3-2) What is the test $R^2$ for the Lasso model using the default parameters?: 0.3647028503815978 <br>\n",
    "3-3) How many features does this model use?: 3 <br>\n",
    "3-4) What are the names of those features?: bmi, bp, s5"
   ]
  },
  {
   "cell_type": "markdown",
   "metadata": {},
   "source": [
    "#### 4. Load the original diabetes dataset from the web page"
   ]
  },
  {
   "cell_type": "code",
   "execution_count": 184,
   "metadata": {},
   "outputs": [],
   "source": [
    "ori_diabetes_data = np.genfromtxt(\"diabetes.txt\", skip_header=1, usecols=np.arange(10))\n",
    "ori_diabetes_label = np.genfromtxt(\"diabetes.txt\", skip_header=1, usecols=10)"
   ]
  },
  {
   "cell_type": "code",
   "execution_count": 185,
   "metadata": {},
   "outputs": [
    {
     "data": {
      "text/plain": [
       "(442, 10)"
      ]
     },
     "execution_count": 185,
     "metadata": {},
     "output_type": "execute_result"
    }
   ],
   "source": [
    "ori_diabetes_data.shape"
   ]
  },
  {
   "cell_type": "code",
   "execution_count": 186,
   "metadata": {},
   "outputs": [
    {
     "data": {
      "text/plain": [
       "(442,)"
      ]
     },
     "execution_count": 186,
     "metadata": {},
     "output_type": "execute_result"
    }
   ],
   "source": [
    "ori_diabetes_label.shape"
   ]
  },
  {
   "cell_type": "markdown",
   "metadata": {},
   "source": [
    "#### 5. Split the dataset into the training and test sets. Use the birtyday as random_state"
   ]
  },
  {
   "cell_type": "code",
   "execution_count": 187,
   "metadata": {},
   "outputs": [],
   "source": [
    "ori_X_train,ori_X_test,ori_y_train,ori_y_test = train_test_split(ori_diabetes_data,ori_diabetes_label,random_state=924)"
   ]
  },
  {
   "cell_type": "code",
   "execution_count": 188,
   "metadata": {},
   "outputs": [],
   "source": [
    "lasso = Lasso().fit(ori_X_train,ori_y_train)"
   ]
  },
  {
   "cell_type": "code",
   "execution_count": 189,
   "metadata": {},
   "outputs": [
    {
     "data": {
      "text/plain": [
       "0.49532094051593256"
      ]
     },
     "execution_count": 189,
     "metadata": {},
     "output_type": "execute_result"
    }
   ],
   "source": [
    "lasso.score(ori_X_train, ori_y_train)"
   ]
  },
  {
   "cell_type": "code",
   "execution_count": 190,
   "metadata": {},
   "outputs": [
    {
     "data": {
      "text/plain": [
       "0.540587068916375"
      ]
     },
     "execution_count": 190,
     "metadata": {},
     "output_type": "execute_result"
    }
   ],
   "source": [
    "lasso.score(ori_X_test, ori_y_test)"
   ]
  },
  {
   "cell_type": "code",
   "execution_count": 191,
   "metadata": {},
   "outputs": [
    {
     "data": {
      "text/plain": [
       "9"
      ]
     },
     "execution_count": 191,
     "metadata": {},
     "output_type": "execute_result"
    }
   ],
   "source": [
    "np.sum(lasso.coef_ != 0)"
   ]
  },
  {
   "cell_type": "code",
   "execution_count": 192,
   "metadata": {},
   "outputs": [
    {
     "data": {
      "text/plain": [
       "array([  0.12356884, -19.75719429,   5.48772619,   1.20858765,\n",
       "         0.        ,  -0.10859985,  -1.1636105 ,   0.09473498,\n",
       "        32.86165311,   0.16674242])"
      ]
     },
     "execution_count": 192,
     "metadata": {},
     "output_type": "execute_result"
    }
   ],
   "source": [
    "lasso.coef_"
   ]
  },
  {
   "cell_type": "markdown",
   "metadata": {},
   "source": [
    "#### 6. Answers for question 6\n",
    "6-1) What is the training $R^2$ for the Lasso model using the default parameters?: 0.49532094051593256 <br>\n",
    "6-2) What is the test $R^2$ for the Lasso model using the default parameters?: 0.540587068916375 <br>\n",
    "6-3) How many features does this model use?: 9 <br>\n",
    "6-4) What are the names of those features?: age, sex, bmi, bp, s2, s3, s4, s5, s6 <br>\n",
    "6-5) Differences:<br> Compared to the results in question 3, both training $R^2$ and test $R^2$ show better prediction with original (unnormalized) datasets. It implicates that normalization not always lead to increased model performance. Also, the number of features used in the model, 9 out of 10, is larger than the previous result. It means that the model worked poorly in model selection and it may give an unclear message in what features are meaningfully affect the prediction."
   ]
  },
  {
   "cell_type": "markdown",
   "metadata": {},
   "source": [
    "#### 7. Preprocess the training and test sets in the same way and avoiding data snooping. Use StandardScaler"
   ]
  },
  {
   "cell_type": "code",
   "execution_count": 194,
   "metadata": {},
   "outputs": [],
   "source": [
    "from sklearn.preprocessing import StandardScaler\n",
    "scaler = StandardScaler().fit(ori_X_train)"
   ]
  },
  {
   "cell_type": "code",
   "execution_count": 195,
   "metadata": {},
   "outputs": [],
   "source": [
    "X_train_scaled = scaler.transform(ori_X_train)\n",
    "X_test_scaled = scaler.transform(ori_X_test)"
   ]
  },
  {
   "cell_type": "code",
   "execution_count": 196,
   "metadata": {},
   "outputs": [],
   "source": [
    "lasso = Lasso().fit(X_train_scaled,ori_y_train)"
   ]
  },
  {
   "cell_type": "code",
   "execution_count": 197,
   "metadata": {},
   "outputs": [
    {
     "data": {
      "text/plain": [
       "0.4966937585120621"
      ]
     },
     "execution_count": 197,
     "metadata": {},
     "output_type": "execute_result"
    }
   ],
   "source": [
    "lasso.score(X_train_scaled,ori_y_train)"
   ]
  },
  {
   "cell_type": "code",
   "execution_count": 198,
   "metadata": {},
   "outputs": [
    {
     "data": {
      "text/plain": [
       "0.5448174343671084"
      ]
     },
     "execution_count": 198,
     "metadata": {},
     "output_type": "execute_result"
    }
   ],
   "source": [
    "lasso.score(X_test_scaled,ori_y_test)"
   ]
  },
  {
   "cell_type": "code",
   "execution_count": 199,
   "metadata": {},
   "outputs": [
    {
     "data": {
      "text/plain": [
       "8"
      ]
     },
     "execution_count": 199,
     "metadata": {},
     "output_type": "execute_result"
    }
   ],
   "source": [
    "np.sum(lasso.coef_ != 0)"
   ]
  },
  {
   "cell_type": "code",
   "execution_count": 200,
   "metadata": {},
   "outputs": [
    {
     "data": {
      "text/plain": [
       "array([  0.61370551, -10.37822308,  23.10560775,  15.85644628,\n",
       "        -2.92711112,  -0.        , -13.14573   ,   0.        ,\n",
       "        20.84392378,   0.85901202])"
      ]
     },
     "execution_count": 200,
     "metadata": {},
     "output_type": "execute_result"
    }
   ],
   "source": [
    "lasso.coef_"
   ]
  },
  {
   "cell_type": "markdown",
   "metadata": {},
   "source": [
    "#### 8. Answers for question 8\n",
    "8-1) What is the training $R^2$ for the Lasso model using the default parameters?: 0.4966937585120621 <br>\n",
    "8-2) What is the test $R^2$ for the Lasso model using the default parameters?: 0.5448174343671084 <br>\n",
    "8-3) How many features does this model use?: 8 <br>\n",
    "8-4) What are the names of those features?: age, sex, bmi, bp, s1, s3, s5, s6 <br>\n",
    "8-5) Are your current results closer to those in item 3 or item 6?: It's closer to those in item 6 <br>\n",
    "8-6) Is this expectation confirmed? <br>\n",
    "No, expected results have to be closer to those in item 3 as the data has been normalized with StandardScale, however, the results are closer to ones with unnormalized datasets. <br>\n",
    "8-7) Why? <br>\n",
    "Normalization method is different. I normalized the dataset using StandardScaler (mean centered and scaled by the standard deviation). However, scikit-learn version of the diabetes dataset is normalized by mean centered and scaled by the standard deviation <u>times 'n_samples'</u>."
   ]
  },
  {
   "cell_type": "markdown",
   "metadata": {},
   "source": [
    "#### 9. Varying the parameter α in the Lasso, plot the test $R^2$ vs the number of features used"
   ]
  },
  {
   "cell_type": "code",
   "execution_count": 201,
   "metadata": {},
   "outputs": [],
   "source": [
    "alpha_list = [0.01, 0.1, 1, 5, 10, 20, 30, 40, 50]"
   ]
  },
  {
   "cell_type": "code",
   "execution_count": 202,
   "metadata": {},
   "outputs": [],
   "source": [
    "testr2_list = []\n",
    "n_features_list = []\n",
    "for alpha in alpha_list:\n",
    "    lasso = Lasso(alpha=alpha, max_iter=100000).fit(X_train_scaled, ori_y_train)\n",
    "    testr2 = lasso.score(X_test_scaled, ori_y_test)\n",
    "    n_features = np.sum(lasso.coef_ != 0)\n",
    "    testr2_list.append(testr2)\n",
    "    n_features_list.append(n_features)"
   ]
  },
  {
   "cell_type": "code",
   "execution_count": 203,
   "metadata": {},
   "outputs": [
    {
     "name": "stdout",
     "output_type": "stream",
     "text": [
      "[0.5454628093234413, 0.5471687839202721, 0.5448174343671084, 0.5213247388186935, 0.4847385793486172, 0.3809469022984818, 0.23682526963359818, 0.05540866162181235, -0.0020858023930971914]\n",
      "[10, 9, 8, 5, 4, 3, 2, 1, 0]\n"
     ]
    }
   ],
   "source": [
    "print(testr2_list)\n",
    "print(n_features_list)"
   ]
  },
  {
   "cell_type": "code",
   "execution_count": 204,
   "metadata": {},
   "outputs": [
    {
     "data": {
      "text/plain": [
       "Text(0.5, 1.0, 'test R^2 vs number of features used')"
      ]
     },
     "execution_count": 204,
     "metadata": {},
     "output_type": "execute_result"
    },
    {
     "data": {
      "image/png": "[encoded data removed]",
      "text/plain": [
       "<Figure size 432x288 with 1 Axes>"
      ]
     },
     "metadata": {
      "needs_background": "light"
     },
     "output_type": "display_data"
    }
   ],
   "source": [
    "%matplotlib inline\n",
    "import matplotlib.pyplot as plt\n",
    "plt.plot(testr2_list, n_features_list, color='r', marker='o')\n",
    "plt.xlabel('test R^2')\n",
    "plt.ylabel('number of features used')\n",
    "plt.title('test R^2 vs number of features used')"
   ]
  },
  {
   "cell_type": "markdown",
   "metadata": {},
   "source": [
    "#### Which point on the curve do you prefer? <br>\n",
    "I prefer the result based on the alpha = 5 (sixth point from the left side). It used 5 features, which are half of the number of total features, and the value of test $R^2$ also seems reasonable (0.5213247388186935)."
   ]
  },
  {
   "cell_type": "markdown",
   "metadata": {},
   "source": [
    "#### 10. Choose the regularization parameter for the Lasso using cross-validation on the training set"
   ]
  },
  {
   "cell_type": "code",
   "execution_count": 224,
   "metadata": {},
   "outputs": [],
   "source": [
    "param_grid = {'alpha': [0.001, 0.01, 0.1, 1, 5, 10, 20, 30, 40, 50]}"
   ]
  },
  {
   "cell_type": "code",
   "execution_count": 225,
   "metadata": {},
   "outputs": [],
   "source": [
    "from sklearn.model_selection import GridSearchCV\n",
    "grid_search = GridSearchCV(Lasso(), param_grid, cv=5)"
   ]
  },
  {
   "cell_type": "code",
   "execution_count": 226,
   "metadata": {},
   "outputs": [
    {
     "data": {
      "text/plain": [
       "GridSearchCV(cv=5, estimator=Lasso(),\n",
       "             param_grid={'alpha': [0.001, 0.01, 0.1, 1, 5, 10, 20, 30, 40, 50]})"
      ]
     },
     "execution_count": 226,
     "metadata": {},
     "output_type": "execute_result"
    }
   ],
   "source": [
    "grid_search.fit(X_train_scaled, ori_y_train)"
   ]
  },
  {
   "cell_type": "code",
   "execution_count": 227,
   "metadata": {},
   "outputs": [
    {
     "data": {
      "text/plain": [
       "0.5031571982785852"
      ]
     },
     "execution_count": 227,
     "metadata": {},
     "output_type": "execute_result"
    }
   ],
   "source": [
    "grid_search.score(X_train_scaled, ori_y_train)"
   ]
  },
  {
   "cell_type": "code",
   "execution_count": 228,
   "metadata": {},
   "outputs": [
    {
     "data": {
      "text/plain": [
       "0.5454628093234413"
      ]
     },
     "execution_count": 228,
     "metadata": {},
     "output_type": "execute_result"
    }
   ],
   "source": [
    "grid_search.score(X_test_scaled, ori_y_test)"
   ]
  },
  {
   "cell_type": "code",
   "execution_count": 229,
   "metadata": {},
   "outputs": [
    {
     "name": "stdout",
     "output_type": "stream",
     "text": [
      "{'alpha': 0.01}\n"
     ]
    }
   ],
   "source": [
    "print(grid_search.best_params_) # Selected regularization parameter for Lasso is 0.01"
   ]
  },
  {
   "cell_type": "code",
   "execution_count": 230,
   "metadata": {},
   "outputs": [
    {
     "data": {
      "text/plain": [
       "10"
      ]
     },
     "execution_count": 230,
     "metadata": {},
     "output_type": "execute_result"
    }
   ],
   "source": [
    "lasso = Lasso(alpha=grid_search.best_params_['alpha'], max_iter=100000).fit(X_train_scaled,ori_y_train)\n",
    "n_features=np.sum(lasso.coef_ != 0)\n",
    "n_features"
   ]
  },
  {
   "cell_type": "markdown",
   "metadata": {},
   "source": [
    "#### Answers for question 10\n",
    "10-1) What is the training $R^2$ for the Lasso model using the default parameters?: 0.5031571982785852 <br>\n",
    "10-2) What is the test $R^2$ for the Lasso model using the default parameters?: 0.5454628093234413 <br>\n",
    "10-3) How many features does this model use?: 10"
   ]
  },
  {
   "cell_type": "markdown",
   "metadata": {},
   "source": [
    "#### 11. Implement an inductive conformal predictor as follows:"
   ]
  },
  {
   "cell_type": "markdown",
   "metadata": {},
   "source": [
    "(a) Split the training set that obtained in item 5 into two parts: calibration set of size 99 and the training set proper"
   ]
  },
  {
   "cell_type": "code",
   "execution_count": 231,
   "metadata": {},
   "outputs": [],
   "source": [
    "ori_X_train,ori_X_test,ori_y_train,ori_y_test = train_test_split(ori_diabetes_data,ori_diabetes_label,random_state=924)"
   ]
  },
  {
   "cell_type": "code",
   "execution_count": 232,
   "metadata": {},
   "outputs": [
    {
     "data": {
      "text/plain": [
       "(331, 10)"
      ]
     },
     "execution_count": 232,
     "metadata": {},
     "output_type": "execute_result"
    }
   ],
   "source": [
    "ori_X_train.shape"
   ]
  },
  {
   "cell_type": "code",
   "execution_count": 233,
   "metadata": {},
   "outputs": [],
   "source": [
    "X_train_pr, X_train_cali, y_train_pr, y_train_cali = train_test_split(ori_X_train, ori_y_train, test_size=99, random_state=924)"
   ]
  },
  {
   "cell_type": "code",
   "execution_count": 234,
   "metadata": {},
   "outputs": [
    {
     "data": {
      "text/plain": [
       "(232, 10)"
      ]
     },
     "execution_count": 234,
     "metadata": {},
     "output_type": "execute_result"
    }
   ],
   "source": [
    "X_train_pr.shape"
   ]
  },
  {
   "cell_type": "code",
   "execution_count": 235,
   "metadata": {},
   "outputs": [
    {
     "data": {
      "text/plain": [
       "(99, 10)"
      ]
     },
     "execution_count": 235,
     "metadata": {},
     "output_type": "execute_result"
    }
   ],
   "source": [
    "X_train_cali.shape"
   ]
  },
  {
   "cell_type": "markdown",
   "metadata": {},
   "source": [
    "(b) Preprocess the training set proper, calibration set, and test set in the same way using StandardScaler"
   ]
  },
  {
   "cell_type": "code",
   "execution_count": 236,
   "metadata": {},
   "outputs": [],
   "source": [
    "scaler = StandardScaler().fit(X_train_pr)"
   ]
  },
  {
   "cell_type": "code",
   "execution_count": 237,
   "metadata": {},
   "outputs": [],
   "source": [
    "X_train_proper = scaler.transform(X_train_pr)\n",
    "X_train_calibration = scaler.transform(X_train_cali)\n",
    "X_test_scaled = scaler.transform(ori_X_test)"
   ]
  },
  {
   "cell_type": "markdown",
   "metadata": {},
   "source": [
    "(c) Using the nonconformity measure $α=|y-ŷ|$, where y is the true label and ŷ is its prediction given the training set proper"
   ]
  },
  {
   "cell_type": "code",
   "execution_count": 238,
   "metadata": {},
   "outputs": [],
   "source": [
    "param_grid = {'alpha': [0.001, 0.01, 0.1, 1, 5, 10, 20, 30, 40, 50]}"
   ]
  },
  {
   "cell_type": "code",
   "execution_count": 239,
   "metadata": {},
   "outputs": [],
   "source": [
    "grid_search = GridSearchCV(Lasso(), param_grid, cv=5)"
   ]
  },
  {
   "cell_type": "code",
   "execution_count": 240,
   "metadata": {},
   "outputs": [
    {
     "data": {
      "text/plain": [
       "GridSearchCV(cv=5, estimator=Lasso(),\n",
       "             param_grid={'alpha': [0.001, 0.01, 0.1, 1, 5, 10, 20, 30, 40, 50]})"
      ]
     },
     "execution_count": 240,
     "metadata": {},
     "output_type": "execute_result"
    }
   ],
   "source": [
    "grid_search.fit(X_train_proper, y_train_pr)"
   ]
  },
  {
   "cell_type": "code",
   "execution_count": 241,
   "metadata": {},
   "outputs": [
    {
     "name": "stdout",
     "output_type": "stream",
     "text": [
      "{'alpha': 0.001}\n"
     ]
    }
   ],
   "source": [
    "print(grid_search.best_params_)"
   ]
  },
  {
   "cell_type": "code",
   "execution_count": 242,
   "metadata": {},
   "outputs": [],
   "source": [
    "y_hat = grid_search.predict(X_train_calibration)"
   ]
  },
  {
   "cell_type": "code",
   "execution_count": 243,
   "metadata": {},
   "outputs": [],
   "source": [
    "noncs = abs(y_train_cali-y_hat)"
   ]
  },
  {
   "cell_type": "code",
   "execution_count": 244,
   "metadata": {},
   "outputs": [
    {
     "data": {
      "text/plain": [
       "array([  0.67431524,   2.6303268 ,   2.88621031,   3.68511019,\n",
       "         4.18133308,   4.78577384,   5.42409878,   5.48895423,\n",
       "         5.80060571,   5.99568389,   6.28792931,   9.35963415,\n",
       "         9.91781067,  10.97524717,  11.30834286,  11.4341202 ,\n",
       "        11.98399839,  12.91796012,  13.5508878 ,  13.98903639,\n",
       "        15.16134616,  15.75141912,  16.99595038,  17.62201711,\n",
       "        17.84886477,  18.36787425,  18.71908755,  18.91735164,\n",
       "        19.04409547,  19.41138936,  19.4297827 ,  20.02506738,\n",
       "        20.07855063,  22.21016322,  23.47508174,  23.58544825,\n",
       "        23.5984968 ,  24.23614467,  25.99913363,  26.52652682,\n",
       "        28.66768907,  30.5355208 ,  31.8403666 ,  32.10390722,\n",
       "        32.83986017,  33.91778193,  34.51469418,  37.7322797 ,\n",
       "        38.42433129,  39.51769723,  39.60727133,  39.71174752,\n",
       "        40.04908755,  40.21316953,  40.50292086,  41.10242968,\n",
       "        41.95063242,  42.16773401,  42.45510654,  43.46825105,\n",
       "        44.10543553,  44.68862031,  47.59182908,  48.81519838,\n",
       "        50.27570616,  50.61848419,  51.41653073,  53.17927775,\n",
       "        53.74349592,  56.09892825,  57.5085616 ,  58.73854746,\n",
       "        59.39750891,  60.16672446,  60.64018738,  61.91625973,\n",
       "        62.8266349 ,  62.96028706,  63.17714269,  64.83877194,\n",
       "        66.47028113,  67.35020455,  69.10991503,  73.05210285,\n",
       "        76.5786311 ,  77.37420087,  78.04247486,  79.97445232,\n",
       "        86.2349481 ,  88.53067395,  90.31420745,  91.71919095,\n",
       "        91.96724061,  95.70770745,  97.12662688, 105.89798194,\n",
       "       109.40976393, 114.96263645, 135.43293019])"
      ]
     },
     "execution_count": 244,
     "metadata": {},
     "output_type": "execute_result"
    }
   ],
   "source": [
    "sorted_noncs = np.sort(noncs)\n",
    "sorted_noncs"
   ]
  },
  {
   "cell_type": "markdown",
   "metadata": {},
   "source": [
    "1) significance levels = 5%"
   ]
  },
  {
   "cell_type": "code",
   "execution_count": 245,
   "metadata": {},
   "outputs": [
    {
     "data": {
      "text/plain": [
       "194.25325376124317"
      ]
     },
     "execution_count": 245,
     "metadata": {},
     "output_type": "execute_result"
    }
   ],
   "source": [
    "# length of the prediction intervals = (ŷ + c) - (ŷ - c) = 2c\n",
    "k_5 = np.ceil((1-0.05)*(len(X_train_calibration)+1))\n",
    "c_5 = sorted_noncs[int(k_5)-1] # Index of Python starts from 0\n",
    "length_5 = 2 * c_5\n",
    "length_5"
   ]
  },
  {
   "cell_type": "code",
   "execution_count": 246,
   "metadata": {},
   "outputs": [],
   "source": [
    "# test error rate of inductive conformal predictor\n",
    "pred_test = grid_search.predict(X_test_scaled)\n",
    "pred_interval_l = pred_test - c_5\n",
    "pred_interval_r = pred_test + c_5"
   ]
  },
  {
   "cell_type": "code",
   "execution_count": 247,
   "metadata": {},
   "outputs": [
    {
     "name": "stdout",
     "output_type": "stream",
     "text": [
      "test error rate: 0.07207207207207207\n"
     ]
    }
   ],
   "source": [
    "index = 0\n",
    "n_errors = 0\n",
    "for i in ori_y_test:\n",
    "    if (i >= pred_interval_l[index]) & (pred_interval_r[index] >= i):\n",
    "        index += 1\n",
    "    else:\n",
    "        n_errors += 1\n",
    "        index += 1\n",
    "print(\"test error rate:\", n_errors/len(ori_y_test))"
   ]
  },
  {
   "cell_type": "markdown",
   "metadata": {},
   "source": [
    "2) significance levels = 20%"
   ]
  },
  {
   "cell_type": "code",
   "execution_count": 248,
   "metadata": {},
   "outputs": [
    {
     "data": {
      "text/plain": [
       "129.67754387669925"
      ]
     },
     "execution_count": 248,
     "metadata": {},
     "output_type": "execute_result"
    }
   ],
   "source": [
    "# length of the prediction intervals = (ŷ + c) - (ŷ - c) = 2c\n",
    "k_20 = np.ceil((1-0.2)*(len(X_train_calibration)+1))\n",
    "c_20 = sorted_noncs[int(k_20)-1] # Index of Python starts from 0\n",
    "length_20 = 2 * c_20\n",
    "length_20"
   ]
  },
  {
   "cell_type": "code",
   "execution_count": 249,
   "metadata": {},
   "outputs": [],
   "source": [
    "# test error rate of inductive conformal predictor\n",
    "pred_interval_l = pred_test - c_20\n",
    "pred_interval_r = pred_test + c_20"
   ]
  },
  {
   "cell_type": "code",
   "execution_count": 250,
   "metadata": {},
   "outputs": [
    {
     "name": "stdout",
     "output_type": "stream",
     "text": [
      "test error rate: 0.26126126126126126\n"
     ]
    }
   ],
   "source": [
    "index = 0\n",
    "n_errors = 0\n",
    "for i in ori_y_test:\n",
    "    if (i >= pred_interval_l[index]) & (pred_interval_r[index] >= i):\n",
    "        index += 1\n",
    "    else:\n",
    "        n_errors += 1\n",
    "        index += 1\n",
    "print(\"test error rate:\", n_errors/len(ori_y_test))"
   ]
  },
  {
   "cell_type": "markdown",
   "metadata": {},
   "source": [
    "#### Answers for question 11\n",
    "11-1) Length of prediction intervals at significance level of 5%: 194.25325376124317 <br>\n",
    "11-2) Test error rate at significance level of 5%: 0.07207207207207207 <br>\n",
    "11-3) Length of prediction intervals at significance level of 20%: 129.67754387669925 <br>\n",
    "11-4) Test error rate at significance level of 20%: 0.26126126126126126"
   ]
  },
  {
   "cell_type": "code",
   "execution_count": null,
   "metadata": {},
   "outputs": [],
   "source": []
  }
 ],
 "metadata": {
  "kernelspec": {
   "display_name": "Python 3",
   "language": "python",
   "name": "python3"
  },
  "language_info": {
   "codemirror_mode": {
    "name": "ipython",
    "version": 3
   },
   "file_extension": ".py",
   "mimetype": "text/x-python",
   "name": "python",
   "nbconvert_exporter": "python",
   "pygments_lexer": "ipython3",
   "version": "3.8.3"
  }
 },
 "nbformat": 4,
 "nbformat_minor": 4
}
