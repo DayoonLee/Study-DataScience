{
 "cells": [
  {
   "cell_type": "markdown",
   "metadata": {},
   "source": [
    "# CS5920J Assignment 1\n",
    "1. Implemented the K Nearest Neighbours algorithm for $K = 1$ and $K = 3$ on iris dataset\n",
    "2. Implemented the K Nearest Neighbours algorithm for $K = 1$ and $K = 3$ on ionosphere dataset\n",
    "3. Extra marks - implemented the K Nearest Neighbours algorithm for a general K"
   ]
  },
  {
   "cell_type": "code",
   "execution_count": 58,
   "metadata": {},
   "outputs": [],
   "source": [
    "import numpy as np\n",
    "from sklearn.datasets import load_iris\n",
    "from sklearn.model_selection import train_test_split"
   ]
  },
  {
   "cell_type": "markdown",
   "metadata": {},
   "source": [
    "### 1. Iris Dataset\n",
    "#### 1-1. K Nearest Neighbours algorithm ($K = 1$)"
   ]
  },
  {
   "cell_type": "markdown",
   "metadata": {},
   "source": [
    "Load iris dataset and split it into the training and test sets. Use a birthday as random_state"
   ]
  },
  {
   "cell_type": "code",
   "execution_count": 103,
   "metadata": {},
   "outputs": [],
   "source": [
    "iris = load_iris()\n",
    "X_train, X_test, y_train, y_test = train_test_split(iris['data'], iris['target'], random_state=924)"
   ]
  },
  {
   "cell_type": "code",
   "execution_count": 60,
   "metadata": {},
   "outputs": [],
   "source": [
    "def euclidean_dist(train, test):\n",
    "    \"\"\"Create (test,training) pair so that calculate Euclidean distances between each test sample and all training samples\"\"\"\n",
    "    \"\"\"(X_test: 38) * (X_train: 112) = 4256 pairs \"\"\"\n",
    "    eucl_dist_list = []\n",
    "    dist = [[testval, trainval] for testval in test for trainval in train]\n",
    "    for n in range(len(dist)):\n",
    "        euclidean_dist = sum((dist[n][0]-dist[n][1])**2)\n",
    "        eucl_dist_list.append(euclidean_dist)\n",
    "    return eucl_dist_list"
   ]
  },
  {
   "cell_type": "code",
   "execution_count": 61,
   "metadata": {},
   "outputs": [
    {
     "name": "stdout",
     "output_type": "stream",
     "text": [
      "#_distance_pair 4256\n"
     ]
    }
   ],
   "source": [
    "print(\"#_distance_pair\", len(euclidean_dist(X_train, X_test)))"
   ]
  },
  {
   "cell_type": "code",
   "execution_count": 62,
   "metadata": {},
   "outputs": [],
   "source": [
    "def find_nearest(distances):\n",
    "    \"\"\"Find the nearest distance,i.e.nearest neighbour, per every test sample and return their index\"\"\"\n",
    "    loc = []\n",
    "    test_size = len(X_train)\n",
    "    for n in range(0, int(len(distances)/test_size)):\n",
    "        dist_per_test = distances[test_size*n:test_size*n+test_size]\n",
    "        nearest = min(distances[test_size*n:test_size*n+test_size])\n",
    "        its_loc = dist_per_test.index(nearest)\n",
    "        loc.append(its_loc)\n",
    "    return loc"
   ]
  },
  {
   "cell_type": "code",
   "execution_count": 63,
   "metadata": {},
   "outputs": [],
   "source": [
    "def predict_labels(nearest_loc_list):\n",
    "    \"\"\"Predict labels on the test samples\"\"\"\n",
    "    pred_labels = []\n",
    "    for nearest_loc in nearest_loc_list:\n",
    "        y_predict = y_train[nearest_loc]\n",
    "        pred_labels.append(y_predict)\n",
    "    return pred_labels"
   ]
  },
  {
   "cell_type": "code",
   "execution_count": 64,
   "metadata": {},
   "outputs": [],
   "source": [
    "def compute_error_rate(pred_labels, true_labels):\n",
    "    \"\"\"Compute the number of errors and test error rate\"\"\"\n",
    "    num_of_errors = np.sum(pred_labels != true_labels)\n",
    "    print(\"number_of_errors\", num_of_errors)\n",
    "    error_rate = (num_of_errors / len(X_test))\n",
    "    print(\"test_error_rate:\", error_rate)\n",
    "    print(\"test_error_rate(%):\", error_rate*100)\n",
    "    return error_rate"
   ]
  },
  {
   "cell_type": "code",
   "execution_count": 65,
   "metadata": {},
   "outputs": [
    {
     "name": "stdout",
     "output_type": "stream",
     "text": [
      "number_of_errors 2\n",
      "test_error_rate: 0.05263157894736842\n",
      "test_error_rate(%): 5.263157894736842\n"
     ]
    }
   ],
   "source": [
    "euc_dist = euclidean_dist(X_train, X_test)\n",
    "nearest = find_nearest(euc_dist)\n",
    "predict = predict_labels(nearest)\n",
    "err_rate = compute_error_rate(predict, y_test)"
   ]
  },
  {
   "cell_type": "markdown",
   "metadata": {},
   "source": [
    "The test error rate of K Neighbours algorithm ($K = 1$) applied to iris.txt: 0.05263157894736842"
   ]
  },
  {
   "cell_type": "markdown",
   "metadata": {},
   "source": [
    "#### 1-2. K Nearest Neighbours algorithm ($K = 3$)\n",
    "Use the same functions, which are calculating Euclidean distance and computing the error rate, that is used in $K = 1$ algorithm"
   ]
  },
  {
   "cell_type": "code",
   "execution_count": 66,
   "metadata": {},
   "outputs": [],
   "source": [
    "def find_three_nearest(distances):\n",
    "    \"\"\"Find the three nearest neighbours and their indexes\"\"\"\n",
    "    nn_indexes = []\n",
    "    test_size = len(X_train)\n",
    "    for n in range(0, int(len(distances)/test_size)):\n",
    "        dist_per_test = distances[test_size*n:test_size*n+test_size]\n",
    "        nearest = min(dist_per_test)\n",
    "        nearest_loc = dist_per_test.index(nearest)\n",
    "        nn_indexes.append(nearest_loc)\n",
    "        second = dist_per_test.copy()\n",
    "        second.remove(nearest)\n",
    "        second_nn = min(second)\n",
    "        second_nn_loc = dist_per_test.index(second_nn)\n",
    "        nn_indexes.append(second_nn_loc)\n",
    "        third = second.copy()\n",
    "        third.remove(second_nn)\n",
    "        third_nn = min(third)\n",
    "        third_nn_loc = dist_per_test.index(third_nn)\n",
    "        nn_indexes.append(third_nn_loc)\n",
    "    return nn_indexes"
   ]
  },
  {
   "cell_type": "code",
   "execution_count": 67,
   "metadata": {},
   "outputs": [],
   "source": [
    "def threenn_predict(nn_indexes):\n",
    "    \"\"\"Following the Majority voting rule, predict the labels on test samples\"\"\"\n",
    "    three_nn_labels = []\n",
    "    y_predicts = []\n",
    "    for nn_index in nn_indexes:\n",
    "        label_match = y_train[nn_index]\n",
    "        three_nn_labels.append(label_match)\n",
    "\n",
    "    for n in range(0, int(len(three_nn_labels)/3)):\n",
    "        labels_per_test = three_nn_labels[3*n:3*n+3]\n",
    "        count_zero = labels_per_test.count(0)\n",
    "        count_one = labels_per_test.count(1)\n",
    "        count_two = labels_per_test.count(2)\n",
    "        if (count_zero > count_one) and (count_zero > count_two):\n",
    "            y_predicts.append(0)\n",
    "        elif (count_one > count_zero) and (count_one > count_two):\n",
    "            y_predicts.append(1)\n",
    "        else:\n",
    "            y_predicts.append(2)\n",
    "\n",
    "    return y_predicts"
   ]
  },
  {
   "cell_type": "code",
   "execution_count": 68,
   "metadata": {},
   "outputs": [
    {
     "name": "stdout",
     "output_type": "stream",
     "text": [
      "number_of_errors 2\n",
      "test_error_rate: 0.05263157894736842\n",
      "test_error_rate(%): 5.263157894736842\n"
     ]
    }
   ],
   "source": [
    "three_nn_euc_dist = euclidean_dist(X_train, X_test)\n",
    "three_nearest = find_three_nearest(three_nn_euc_dist)\n",
    "three_nearest_predict = threenn_predict(three_nearest)\n",
    "three_nn_err_rate = compute_error_rate(three_nearest_predict, y_test)"
   ]
  },
  {
   "cell_type": "markdown",
   "metadata": {},
   "source": [
    "The test error rate of K Neighbours algorithm ($K = 3$) applied to iris.txt: 0.05263157894736842"
   ]
  },
  {
   "cell_type": "markdown",
   "metadata": {},
   "source": [
    "### 2. Ionosphere Dataset\n",
    "#### 2-1. K Nearest Neighbours algorithm ($K = 1$)"
   ]
  },
  {
   "cell_type": "markdown",
   "metadata": {},
   "source": [
    "Load ionosphere dataset and split it into data and labels"
   ]
  },
  {
   "cell_type": "code",
   "execution_count": 80,
   "metadata": {},
   "outputs": [],
   "source": [
    "ionosphere_data = np.genfromtxt(\"ionosphere.txt\", delimiter=\",\", usecols=np.arange(34))\n",
    "ionosphere_label = np.genfromtxt(\"ionosphere.txt\", delimiter=\",\", usecols=34, dtype=\"int\")"
   ]
  },
  {
   "cell_type": "markdown",
   "metadata": {},
   "source": [
    "Split it into the training and test sets. Use a birthday as random_state"
   ]
  },
  {
   "cell_type": "code",
   "execution_count": 94,
   "metadata": {},
   "outputs": [],
   "source": [
    "X_train, X_test, y_train, y_test = train_test_split(ionosphere_data, ionosphere_label, random_state=924)"
   ]
  },
  {
   "cell_type": "markdown",
   "metadata": {},
   "source": [
    "Use the same functions with iris dataset in implementing the Nearest Neighbour algorithm"
   ]
  },
  {
   "cell_type": "code",
   "execution_count": 71,
   "metadata": {},
   "outputs": [
    {
     "name": "stdout",
     "output_type": "stream",
     "text": [
      "number_of_errors 20\n",
      "test_error_rate: 0.22727272727272727\n",
      "test_error_rate(%): 22.727272727272727\n"
     ]
    }
   ],
   "source": [
    "iono_euc_dist = euclidean_dist(X_train, X_test)\n",
    "iono_nearest = find_nearest(iono_euc_dist)\n",
    "iono_predict = predict_labels(iono_nearest)\n",
    "iono_err_rate = compute_error_rate(iono_predict, y_test)"
   ]
  },
  {
   "cell_type": "markdown",
   "metadata": {},
   "source": [
    "The test error rate of K Neighbours algorithm ($K = 1$) applied to ionosphere.txt: 0.22727272727272727"
   ]
  },
  {
   "cell_type": "markdown",
   "metadata": {},
   "source": [
    "#### 2-2. K Nearest Neighbours algorithm ($K = 3$)"
   ]
  },
  {
   "cell_type": "code",
   "execution_count": 82,
   "metadata": {},
   "outputs": [],
   "source": [
    "def ion_three_nn_predict(nn_indexes):\n",
    "    \"\"\"Following the Majority voting rule, predict the labels on test samples\"\"\"\n",
    "    three_nn_labels = []\n",
    "    y_predicts = []\n",
    "    for nn_index in nn_indexes:\n",
    "        label_match = y_train[nn_index]\n",
    "        three_nn_labels.append(label_match)\n",
    "\n",
    "    for n in range(0, int(len(three_nn_labels)/3)):\n",
    "        labels_per_test = three_nn_labels[3*n:3*n+3]\n",
    "        count_negative = labels_per_test.count(-1)\n",
    "        count_positive = labels_per_test.count(1)\n",
    "        if count_negative > count_positive:\n",
    "            y_predicts.append(-1)\n",
    "        else:\n",
    "            y_predicts.append(1)\n",
    "\n",
    "    return y_predicts"
   ]
  },
  {
   "cell_type": "code",
   "execution_count": 86,
   "metadata": {},
   "outputs": [
    {
     "name": "stdout",
     "output_type": "stream",
     "text": [
      "number_of_errors 21\n",
      "test_error_rate: 0.23863636363636365\n",
      "test_error_rate(%): 23.863636363636363\n"
     ]
    }
   ],
   "source": [
    "i_three_nn_euc_dist = euclidean_dist(X_train, X_test)\n",
    "i_three_nearest = find_three_nearest(i_three_nn_euc_dist)\n",
    "i_three_nearest_predict = ion_three_nn_predict(i_three_nearest)\n",
    "i_three_nn_err_rate = compute_error_rate(i_three_nearest_predict, y_test)"
   ]
  },
  {
   "cell_type": "markdown",
   "metadata": {},
   "source": [
    "The test error rate of K Neighbours algorithm ($K = 3$) applied to ionosphere.txt: 0.23863636363636365"
   ]
  },
  {
   "cell_type": "markdown",
   "metadata": {},
   "source": [
    "### 3. Extra marks\n",
    "Implementing the K Nearest Neighbours algorithm for a general K with iris and ionosphere datasets"
   ]
  },
  {
   "cell_type": "code",
   "execution_count": 90,
   "metadata": {},
   "outputs": [],
   "source": [
    "from sklearn.neighbors import KNeighborsClassifier\n",
    "import matplotlib.pyplot as plt"
   ]
  },
  {
   "cell_type": "code",
   "execution_count": 93,
   "metadata": {},
   "outputs": [
    {
     "data": {
      "text/plain": [
       "Text(0, 0.5, 'Accuracy')"
      ]
     },
     "execution_count": 93,
     "metadata": {},
     "output_type": "execute_result"
    },
    {
     "data": {
      "image/png": "[encoded data removed]",
      "text/plain": [
       "<Figure size 432x288 with 1 Axes>"
      ]
     },
     "metadata": {
      "needs_background": "light"
     },
     "output_type": "display_data"
    }
   ],
   "source": [
    "\"\"\"iterate k in range(1,113) because the training set has 112 samples\"\"\"\n",
    "k_range = range(1,113)\n",
    "accuracies = []\n",
    "\n",
    "for k in k_range:\n",
    "    classifier = KNeighborsClassifier(n_neighbors = k)\n",
    "    classifier.fit(X_train,y_train)\n",
    "    accuracy = classifier.score(X_test,y_test)\n",
    "    accuracies.append(accuracy)\n",
    "\n",
    "plt.plot(k_range, accuracies)\n",
    "plt.xlabel(\"k\")\n",
    "plt.ylabel(\"Accuracy\")"
   ]
  },
  {
   "cell_type": "code",
   "execution_count": 95,
   "metadata": {},
   "outputs": [
    {
     "data": {
      "text/plain": [
       "Text(0, 0.5, 'Accuracy')"
      ]
     },
     "execution_count": 95,
     "metadata": {},
     "output_type": "execute_result"
    },
    {
     "data": {
      "image/png": "[encoded data removed]",
      "text/plain": [
       "<Figure size 432x288 with 1 Axes>"
      ]
     },
     "metadata": {
      "needs_background": "light"
     },
     "output_type": "display_data"
    }
   ],
   "source": [
    "\"\"\"In case of ionosphere dataset, iterate k in range(1,264) because the training set has 263 samples\"\"\"\n",
    "i_k_range = range(1,264)\n",
    "i_accuracies = []\n",
    "\n",
    "for k in i_k_range:\n",
    "    classifier = KNeighborsClassifier(n_neighbors = k)\n",
    "    classifier.fit(X_train, y_train)\n",
    "    i_accuracy = classifier.score(X_test, y_test)\n",
    "    i_accuracies.append(i_accuracy)\n",
    "\n",
    "plt.plot(i_k_range, i_accuracies)\n",
    "plt.xlabel(\"k\")\n",
    "plt.ylabel(\"Accuracy\")"
   ]
  },
  {
   "cell_type": "markdown",
   "metadata": {},
   "source": [
    "As we all know, both graphs showing that the accuracy of K Nearest Neighbours algorithm is significantly decreasing as K increases"
   ]
  }
 ],
 "metadata": {
  "kernelspec": {
   "display_name": "Python 3",
   "language": "python",
   "name": "python3"
  },
  "language_info": {
   "codemirror_mode": {
    "name": "ipython",
    "version": 3
   },
   "file_extension": ".py",
   "mimetype": "text/x-python",
   "name": "python",
   "nbconvert_exporter": "python",
   "pygments_lexer": "ipython3",
   "version": "3.8.3"
  }
 },
 "nbformat": 4,
 "nbformat_minor": 4
}
